{
 "cells": [
  {
   "cell_type": "code",
   "execution_count": 1,
   "metadata": {
    "collapsed": true,
    "ExecuteTime": {
     "end_time": "2023-07-16T23:43:31.247279569Z",
     "start_time": "2023-07-16T23:43:29.514737958Z"
    }
   },
   "outputs": [],
   "source": [
    "from pathlib import Path\n",
    "\n",
    "import matplotlib.pyplot as plt\n",
    "import pandas as pd\n",
    "import torch\n",
    "from data_analysis_preparation.utils import filter_df_by_problem\n",
    "\n",
    "from dataloader import Mri3DDataLoader\n",
    "from model import MRINet\n",
    "from training_loop import evaluate_model, run_training_loop"
   ]
  },
  {
   "cell_type": "markdown",
   "source": [
    "### Load data"
   ],
   "metadata": {
    "collapsed": false
   }
  },
  {
   "cell_type": "code",
   "execution_count": 2,
   "outputs": [],
   "source": [
    "TRAIN_DATA_PATH = \"/home/dpolak/alzheimer_disease_classification_tools/tabular_data/train_base.csv\"\n",
    "TEST_DATA_PATH = \"/home/dpolak/alzheimer_disease_classification_tools/tabular_data/test_base.csv\"\n",
    "VALID_DATA_PATH = \"/home/dpolak/alzheimer_disease_classification_tools/tabular_data/val_base.csv\"\n",
    "BIOCARD_DATA_PATH = \"/home/dpolak/alzheimer_disease_classification_tools/tabular_data/biocard_test_set.csv\"\n",
    "MODEL_SAVE_DIRECTORY = \"/home/dpolak/alzheimer_disease_classification_tools/models\""
   ],
   "metadata": {
    "collapsed": false,
    "ExecuteTime": {
     "end_time": "2023-07-16T23:43:31.250675183Z",
     "start_time": "2023-07-16T23:43:31.248967393Z"
    }
   }
  },
  {
   "cell_type": "code",
   "execution_count": 3,
   "outputs": [],
   "source": [
    "train_df = pd.read_csv(TRAIN_DATA_PATH)\n",
    "test_df = pd.read_csv(TEST_DATA_PATH)\n",
    "valid_df = pd.read_csv(VALID_DATA_PATH)\n",
    "biocard_df = pd.read_csv(BIOCARD_DATA_PATH)"
   ],
   "metadata": {
    "collapsed": false,
    "ExecuteTime": {
     "end_time": "2023-07-16T23:43:31.316229216Z",
     "start_time": "2023-07-16T23:43:31.252261766Z"
    }
   }
  },
  {
   "cell_type": "markdown",
   "source": [
    "### Training and evaluation process"
   ],
   "metadata": {
    "collapsed": false
   }
  },
  {
   "cell_type": "code",
   "execution_count": 4,
   "outputs": [],
   "source": [
    "problems = {\"AD vs CN\": [\"AD\", \"CN\"] , \"AD vs MCI\": [\"AD\", \"MCI\"], \"MCI vs CN\": [\"MCI\", \"CN\"], \"AD vs MCI vs CN\": [\"MCI\", \"CN\", \"AD\"], \"p-MCI vs np-MCI\": [\"p-MCI\", \"np-MCI\"]}\n",
    "batch_size = 4"
   ],
   "metadata": {
    "collapsed": false,
    "ExecuteTime": {
     "end_time": "2023-07-16T23:43:31.317535777Z",
     "start_time": "2023-07-16T23:43:31.296385884Z"
    }
   }
  },
  {
   "cell_type": "code",
   "execution_count": 5,
   "outputs": [
    {
     "name": "stdout",
     "output_type": "stream",
     "text": [
      "Training AD vs CN\n"
     ]
    },
    {
     "name": "stderr",
     "output_type": "stream",
     "text": [
      "Epoch: 0, LR: [0.001] Step loss: 1.9558913707733154,  Step acc: 2, Train Accuracy: 0.6213592233009708, Balanced Accuracy: 0.6213235294117647, Running Loss: 0.8311814965987668: 100%|██████████| 412/412 [05:37<00:00,  1.22it/s] \n",
      "Validation Loss - item: 0.306722491979599, Validation Accuracy: 0.7009803921568627, Balanced accuracy: 0.7072453993641006, Running Loss: 0.6341335323693997: 100%|██████████| 51/51 [00:29<00:00,  1.74it/s]  \n"
     ]
    },
    {
     "name": "stdout",
     "output_type": "stream",
     "text": [
      "\n",
      "Best validation loss: 0.6341335323693997\n",
      "\n",
      "Saving best model for epoch: 1\n",
      "\n"
     ]
    },
    {
     "name": "stderr",
     "output_type": "stream",
     "text": [
      "Epoch: 1, LR: [0.001] Step loss: 0.23181502521038055,  Step acc: 4, Train Accuracy: 0.7390776699029126, Balanced Accuracy: 0.7386567333454113, Running Loss: 0.541002038197176: 100%|██████████| 412/412 [05:35<00:00,  1.23it/s] \n",
      "Validation Loss - item: 0.10794678330421448, Validation Accuracy: 0.7549019607843137, Balanced accuracy: 0.7591290105019751, Running Loss: 0.4565514701546407: 100%|██████████| 51/51 [00:30<00:00,  1.69it/s] \n"
     ]
    },
    {
     "name": "stdout",
     "output_type": "stream",
     "text": [
      "\n",
      "Best validation loss: 0.4565514701546407\n",
      "\n",
      "Saving best model for epoch: 2\n",
      "\n"
     ]
    },
    {
     "name": "stderr",
     "output_type": "stream",
     "text": [
      "Epoch: 2, LR: [0.001] Step loss: 0.1466771513223648,  Step acc: 4, Train Accuracy: 0.7815533980582524, Balanced Accuracy: 0.7813108036651952, Running Loss: 0.48410505597995035: 100%|██████████| 412/412 [05:27<00:00,  1.26it/s] \n",
      "Validation Loss - item: 0.548092782497406, Validation Accuracy: 0.7598039215686274, Balanced accuracy: 0.7479044223913671, Running Loss: 0.4859967972425854: 100%|██████████| 51/51 [00:29<00:00,  1.73it/s]   \n",
      "Epoch: 3, LR: [5e-06] Step loss: 0.7777667045593262,  Step acc: 2, Train Accuracy: 0.8246359223300971, Balanced Accuracy: 0.8236592446610608, Running Loss: 0.41099628636125224: 100%|██████████| 412/412 [05:26<00:00,  1.26it/s] \n",
      "Validation Loss - item: 0.15974153578281403, Validation Accuracy: 0.8480392156862745, Balanced accuracy: 0.8459870893149629, Running Loss: 0.34673308887902426: 100%|██████████| 51/51 [00:29<00:00,  1.73it/s]\n"
     ]
    },
    {
     "name": "stdout",
     "output_type": "stream",
     "text": [
      "\n",
      "Best validation loss: 0.34673308887902426\n",
      "\n",
      "Saving best model for epoch: 4\n",
      "\n"
     ]
    },
    {
     "name": "stderr",
     "output_type": "stream",
     "text": [
      "Epoch: 4, LR: [5e-06] Step loss: 0.7941679954528809,  Step acc: 2, Train Accuracy: 0.8507281553398058, Balanced Accuracy: 0.8502783751141485, Running Loss: 0.37012551983510983: 100%|██████████| 412/412 [05:34<00:00,  1.23it/s] \n",
      "Validation Loss - item: 0.13270694017410278, Validation Accuracy: 0.8480392156862745, Balanced accuracy: 0.8483957992099431, Running Loss: 0.357341453286947: 100%|██████████| 51/51 [00:29<00:00,  1.72it/s]  \n",
      "Epoch: 5, LR: [5e-06] Step loss: 0.422732412815094,  Step acc: 4, Train Accuracy: 0.850121359223301, Balanced Accuracy: 0.8497857648907763, Running Loss: 0.371188863379501: 100%|██████████| 412/412 [05:28<00:00,  1.25it/s]     \n",
      "Validation Loss - item: 0.22280289232730865, Validation Accuracy: 0.8480392156862745, Balanced accuracy: 0.8483957992099431, Running Loss: 0.3544075728631487: 100%|██████████| 51/51 [00:29<00:00,  1.71it/s] \n",
      "Epoch: 6, LR: [2.5000000000000002e-08] Step loss: 0.39235633611679077,  Step acc: 3, Train Accuracy: 0.8464805825242718, Balanced Accuracy: 0.8461447254270341, Running Loss: 0.3694045031533658: 100%|██████████| 412/412 [05:34<00:00,  1.23it/s]  \n",
      "Validation Loss - item: 0.3687756061553955, Validation Accuracy: 0.8431372549019608, Balanced accuracy: 0.8446863859716736, Running Loss: 0.35962585841908173: 100%|██████████| 51/51 [00:30<00:00,  1.68it/s] \n",
      "Epoch: 7, LR: [2.5000000000000002e-08] Step loss: 0.09754467755556107,  Step acc: 4, Train Accuracy: 0.8574029126213593, Balanced Accuracy: 0.8570993018528883, Running Loss: 0.3602426261234197: 100%|██████████| 412/412 [05:34<00:00,  1.23it/s] \n",
      "Validation Loss - item: 0.06935325264930725, Validation Accuracy: 0.8529411764705882, Balanced accuracy: 0.8530686964062049, Running Loss: 0.3541128831166847: 100%|██████████| 51/51 [00:29<00:00,  1.74it/s] \n",
      "Epoch: 8, LR: [2.5000000000000002e-08] Step loss: 0.6320635676383972,  Step acc: 3, Train Accuracy: 0.8531553398058253, Balanced Accuracy: 0.852845740410972, Running Loss: 0.3618894546717695: 100%|██████████| 412/412 [05:31<00:00,  1.24it/s]   \n",
      "Validation Loss - item: 0.15987615287303925, Validation Accuracy: 0.8578431372549019, Balanced accuracy: 0.8577415936024665, Running Loss: 0.3498298334432583: 100%|██████████| 51/51 [00:30<00:00,  1.67it/s] \n",
      "Epoch: 9, LR: [1.25e-10] Step loss: 0.1384570598602295,  Step acc: 4, Train Accuracy: 0.8422330097087378, Balanced Accuracy: 0.8419330132265002, Running Loss: 0.37582941160727185: 100%|██████████| 412/412 [05:32<00:00,  1.24it/s] \n",
      "  0%|          | 0/51 [00:00<?, ?it/s]/home/dpolak/miniconda3/envs/MAGISTERKA/lib/python3.10/site-packages/sklearn/metrics/_classification.py:2184: UserWarning: y_pred contains classes not in y_true\n",
      "  warnings.warn(\"y_pred contains classes not in y_true\")\n",
      "Validation Loss - item: 0.20523105561733246, Validation Accuracy: 0.8578431372549019, Balanced accuracy: 0.8558146256864823, Running Loss: 0.34490293337433947: 100%|██████████| 51/51 [00:29<00:00,  1.70it/s]\n"
     ]
    },
    {
     "name": "stdout",
     "output_type": "stream",
     "text": [
      "\n",
      "Best validation loss: 0.34490293337433947\n",
      "\n",
      "Saving best model for epoch: 10\n",
      "\n"
     ]
    },
    {
     "name": "stderr",
     "output_type": "stream",
     "text": [
      " 19%|█▉        | 80/412 [00:47<03:17,  1.68it/s]\n",
      "\n",
      "KeyboardInterrupt\n",
      "\n"
     ]
    }
   ],
   "source": [
    "histories = {}\n",
    "results = {problem: {} for problem in problems}\n",
    "for problem, columns in problems.items():\n",
    "    print(f\"Training {problem}\")\n",
    "    _train_df = Mri3DDataLoader(filter_df_by_problem(problem, train_df), classification_values=columns, batch_size=batch_size)\n",
    "    _test_df = Mri3DDataLoader(filter_df_by_problem(problem, test_df), classification_values=columns, batch_size=batch_size)\n",
    "    _valid_df = Mri3DDataLoader(filter_df_by_problem(problem, valid_df), classification_values=columns, batch_size=batch_size)\n",
    "    if problem != \"p-MCI vs np-MCI\":\n",
    "        _biocard_df = Mri3DDataLoader(filter_df_by_problem(problem, biocard_df), classification_values=columns, batch_size=batch_size)\n",
    "    else:\n",
    "        _biocard_df = None\n",
    "    save_directory = Path(MODEL_SAVE_DIRECTORY, problem)\n",
    "    model = MRINet(num_classes=2 if problem != \"AD vs MCI vs CN\" else 3)\n",
    "    model.to(\"cuda\")\n",
    "    optimizer = torch.optim.Adam(model.parameters(), lr=1e-3)\n",
    "    history = run_training_loop(model = model,\n",
    "                                train_dataset=_train_df,\n",
    "                                valid_dataset=_valid_df,\n",
    "                                num_epochs = 20,\n",
    "                                optimizer = optimizer,\n",
    "                                batch_size = batch_size,\n",
    "                                save_directory = save_directory,\n",
    "                                scheduler=torch.optim.lr_scheduler.StepLR(optimizer, step_size=3, gamma=0.005, last_epoch=-1))\n",
    "    histories[problem] = history\n",
    "    model.load_state_dict(torch.load(Path(save_directory, \"best_model.pth\")))\n",
    "    results[problem] = {\n",
    "        \"train\": evaluate_model(model, _train_df),\n",
    "        \"test\": evaluate_model(model, _test_df),\n",
    "        \"valid\": evaluate_model(model, _valid_df),\n",
    "        \"biocard\": evaluate_model(model, _biocard_df) if _biocard_df is not None else None\n",
    "    }"
   ],
   "metadata": {
    "collapsed": false,
    "ExecuteTime": {
     "end_time": "2023-07-17T00:44:40.683774068Z",
     "start_time": "2023-07-16T23:43:31.303333688Z"
    }
   }
  },
  {
   "cell_type": "markdown",
   "source": [
    "### Results"
   ],
   "metadata": {
    "collapsed": false
   }
  },
  {
   "cell_type": "code",
   "execution_count": null,
   "outputs": [],
   "source": [
    "plt.figure(figsize=(15, 40))\n",
    "for i, problem in enumerate(problems):\n",
    "    plt.subplot(10, 2, i*2+1)\n",
    "    plt.plot(histories[problem][\"train_loss\"], label=\"train loss\")\n",
    "    plt.plot(histories[problem][\"valid_loss\"], label=\"validation loss\")\n",
    "    plt.title(problem)\n",
    "    plt.legend()\n",
    "    plt.subplot(10, 2, i*2+2)\n",
    "    plt.plot(histories[problem][\"train_balanced_accuracy\"], label=\"train balanced accuracy\")\n",
    "    plt.plot(histories[problem][\"valid_balanced_accuracy\"], label=\"validation balanced accuracy\")\n",
    "    plt.title(problem)\n",
    "    plt.legend()\n",
    "plt.show()\n",
    "plt.savefig(Path(MODEL_SAVE_DIRECTORY, \"training_history.png\"))"
   ],
   "metadata": {
    "collapsed": false,
    "ExecuteTime": {
     "start_time": "2023-07-17T00:44:40.680951120Z"
    }
   }
  },
  {
   "cell_type": "code",
   "execution_count": null,
   "outputs": [],
   "source": [
    "plt.figure(figsize=(10, 10))\n",
    "for i, problem in enumerate(problems):\n",
    "    if problem == \"AD vs MCI vs CN\":\n",
    "        continue\n",
    "    curve = results[problem][\"test\"][\"roc_curve\"]\n",
    "    plt.plot(curve[0][0], curve[0][1], label=f\"{problem}, ROC AUC: {results[problem]['test']['roc_auc']}\")\n",
    "plt.plot([0, 1], [0, 1], linestyle='--', label=\"ROC AUC: 0.5\")\n",
    "plt.legend()\n",
    "plt.show()"
   ],
   "metadata": {
    "collapsed": false,
    "ExecuteTime": {
     "start_time": "2023-07-17T00:44:40.682110495Z"
    }
   }
  },
  {
   "cell_type": "code",
   "execution_count": null,
   "outputs": [],
   "source": [
    "results_dfs = {problem: pd.DataFrame(results[problem]).drop(\"roc_curve\", axis=0, errors=\"ignore\") for problem in problems}"
   ],
   "metadata": {
    "collapsed": false,
    "ExecuteTime": {
     "start_time": "2023-07-17T00:44:40.683085102Z"
    }
   }
  },
  {
   "cell_type": "code",
   "execution_count": null,
   "outputs": [],
   "source": [
    "results_dfs[\"AD vs CN\"]"
   ],
   "metadata": {
    "collapsed": false
   }
  },
  {
   "cell_type": "code",
   "execution_count": null,
   "outputs": [],
   "source": [
    "results_dfs[\"AD vs MCI\"]"
   ],
   "metadata": {
    "collapsed": false
   }
  },
  {
   "cell_type": "code",
   "execution_count": null,
   "outputs": [],
   "source": [
    "results_dfs[\"MCI vs CN\"]"
   ],
   "metadata": {
    "collapsed": false
   }
  },
  {
   "cell_type": "code",
   "execution_count": null,
   "outputs": [],
   "source": [
    "results_dfs[\"AD vs MCI vs CN\"]"
   ],
   "metadata": {
    "collapsed": false
   }
  },
  {
   "cell_type": "code",
   "execution_count": null,
   "outputs": [],
   "source": [
    "results_dfs[\"p-MCI vs np-MCI\"]"
   ],
   "metadata": {
    "collapsed": false
   }
  },
  {
   "cell_type": "markdown",
   "source": [
    "### Augmentations"
   ],
   "metadata": {
    "collapsed": false
   }
  },
  {
   "cell_type": "code",
   "execution_count": null,
   "outputs": [],
   "source": [
    "augment_dataloader = Mri3DDataLoader(filter_df_by_problem(\"AD vs CN\", train_df), classification_values=[\"AD\", \"CN\"], batch_size=batch_size, augment=True)\n",
    "\n",
    "plt.figure(figsize=(20, 20))\n",
    "plt.title(\"Augmented images\")\n",
    "for i in range(16):\n",
    "    plt.subplot(4, 4, i+1)\n",
    "    plt.imshow(augment_dataloader.get_single_item(5)[0].cpu().numpy()[0,0,:, :, 80], cmap=\"gray\")\n",
    "plt.show()"
   ],
   "metadata": {
    "collapsed": false
   }
  },
  {
   "cell_type": "code",
   "execution_count": null,
   "outputs": [],
   "source": [
    "histories = {}\n",
    "results = {problem: {} for problem in problems}\n",
    "for problem, columns in problems.items():\n",
    "    print(f\"Training {problem}\")\n",
    "    _train_df = Mri3DDataLoader(filter_df_by_problem(problem, train_df), classification_values=columns, batch_size=batch_size, augment=True)\n",
    "    _test_df = Mri3DDataLoader(filter_df_by_problem(problem, test_df), classification_values=columns, batch_size=batch_size)\n",
    "    _valid_df = Mri3DDataLoader(filter_df_by_problem(problem, valid_df), classification_values=columns, batch_size=batch_size)\n",
    "    if problem != \"p-MCI vs np-MCI\":\n",
    "        _biocard_df = Mri3DDataLoader(filter_df_by_problem(problem, biocard_df), classification_values=columns, batch_size=batch_size)\n",
    "    else:\n",
    "        _biocard_df = None\n",
    "    save_directory = Path(MODEL_SAVE_DIRECTORY, problem)\n",
    "    model = MRINet(num_classes=2 if problem != \"AD vs MCI vs CN\" else 3)\n",
    "    model.to(\"cuda\")\n",
    "    optimizer = torch.optim.Adam(model.parameters(), lr=1e-3)\n",
    "    history = run_training_loop(model = model,\n",
    "                                train_dataset=_train_df,\n",
    "                                valid_dataset=_valid_df,\n",
    "                                num_epochs = 10,\n",
    "                                optimizer = optimizer,\n",
    "                                batch_size = batch_size,\n",
    "                                save_directory = save_directory,\n",
    "                                scheduler=torch.optim.lr_scheduler.StepLR(optimizer, step_size=3, gamma=0.005, last_epoch=-1))\n",
    "    histories[problem] = history\n",
    "    model.load_state_dict(torch.load(Path(save_directory, \"best_model.pth\")))\n",
    "    results[problem] = {\n",
    "        \"train\": evaluate_model(model, _train_df),\n",
    "        \"test\": evaluate_model(model, _test_df),\n",
    "        \"valid\": evaluate_model(model, _valid_df),\n",
    "        \"biocard\": evaluate_model(model, _biocard_df) if _biocard_df is not None else None\n",
    "    }"
   ],
   "metadata": {
    "collapsed": false
   }
  },
  {
   "cell_type": "code",
   "execution_count": null,
   "outputs": [],
   "source": [
    "plt.figure(figsize=(15, 40))\n",
    "for i, problem in enumerate(problems):\n",
    "    plt.subplot(10, 2, i*2+1)\n",
    "    plt.plot(histories[problem][\"train_loss\"], label=\"train loss\")\n",
    "    plt.plot(histories[problem][\"valid_loss\"], label=\"validation loss\")\n",
    "    plt.title(problem)\n",
    "    plt.legend()\n",
    "    plt.subplot(10, 2, i*2+2)\n",
    "    plt.plot(histories[problem][\"train_balanced_accuracy\"], label=\"train balanced accuracy\")\n",
    "    plt.plot(histories[problem][\"valid_balanced_accuracy\"], label=\"validation balanced accuracy\")\n",
    "    plt.title(problem)\n",
    "    plt.legend()\n",
    "plt.show()\n",
    "plt.savefig(Path(MODEL_SAVE_DIRECTORY, \"training_history_augmentation.png\"))"
   ],
   "metadata": {
    "collapsed": false
   }
  },
  {
   "cell_type": "code",
   "execution_count": null,
   "outputs": [],
   "source": [
    "results_dfs = {problem: pd.DataFrame(results[problem]).drop(\"roc_curve\", axis=0, errors=\"ignore\") for problem in problems}"
   ],
   "metadata": {
    "collapsed": false
   }
  },
  {
   "cell_type": "code",
   "execution_count": null,
   "outputs": [],
   "source": [
    "results_dfs[\"AD vs CN\"]"
   ],
   "metadata": {
    "collapsed": false
   }
  },
  {
   "cell_type": "code",
   "execution_count": null,
   "outputs": [],
   "source": [
    "results_dfs[\"AD vs MCI\"]"
   ],
   "metadata": {
    "collapsed": false
   }
  },
  {
   "cell_type": "code",
   "execution_count": null,
   "outputs": [],
   "source": [
    "results_dfs[\"MCI vs CN\"]"
   ],
   "metadata": {
    "collapsed": false
   }
  },
  {
   "cell_type": "code",
   "execution_count": null,
   "outputs": [],
   "source": [
    "results_dfs[\"AD vs MCI vs CN\"]"
   ],
   "metadata": {
    "collapsed": false
   }
  },
  {
   "cell_type": "code",
   "execution_count": null,
   "outputs": [],
   "source": [
    "results_dfs[\"p-MCI vs np-MCI\"]"
   ],
   "metadata": {
    "collapsed": false
   }
  }
 ],
 "metadata": {
  "kernelspec": {
   "display_name": "Python 3",
   "language": "python",
   "name": "python3"
  },
  "language_info": {
   "codemirror_mode": {
    "name": "ipython",
    "version": 2
   },
   "file_extension": ".py",
   "mimetype": "text/x-python",
   "name": "python",
   "nbconvert_exporter": "python",
   "pygments_lexer": "ipython2",
   "version": "2.7.6"
  }
 },
 "nbformat": 4,
 "nbformat_minor": 0
}
