{
 "cells": [
  {
   "cell_type": "code",
   "execution_count": 23,
   "metadata": {
    "ExecuteTime": {
     "end_time": "2023-07-22T19:48:39.148841248Z",
     "start_time": "2023-07-22T19:48:39.095203951Z"
    }
   },
   "outputs": [],
   "source": [
    "import matplotlib.pyplot as plt\n",
    "import pandas as pd\n",
    "import seaborn as sns\n",
    "\n",
    "from data_analysis_preparation.utils import (filter_biocard_diagnosis_criteria,\n",
    "                                             get_joined_biocard_df)"
   ]
  },
  {
   "cell_type": "markdown",
   "metadata": {},
   "source": [
    "### Load data"
   ]
  },
  {
   "cell_type": "code",
   "execution_count": 24,
   "metadata": {
    "ExecuteTime": {
     "end_time": "2023-07-22T19:48:39.627099206Z",
     "start_time": "2023-07-22T19:48:39.623361738Z"
    }
   },
   "outputs": [],
   "source": [
    "BIOCARD_SCANS_DIRECTORY = r\"/media/dpolak/MRI/FULL_PIPELINE_BIOCARD\"\n",
    "BIOCARD_DIAGNOSIS_DATA = r\"../DATA/BIOCARD_DiagnosisData_Limited_2022.05.14.xlsx\"  # You need to download BIOCARD_DiagnosisData_Limited_2022.05.14.xlsx file\n",
    "BIOCARD_DEMOGRAPHIC_DATA = r\"../DATA/BIOCARD_Demographics_Limited_Data_2022.05.10.xlsx\"  # You need to download BIOCARD_Demographics_Limited_Data_2022.05.10.xlsx file\n",
    "BIOCARD_FUNCTIONAL_DATA = r\"../DATA/BIOCARD_Functional_Evaluation_Limited_2022.05.16.xlsx\"  # You need to download BIOCARD_Functional_Evaluation_Limited_2022.05.16.xlsx file\n",
    "BIOCARD_COGNITIVE_DATA = r\"../DATA/BIOCARD_CognitiveData_Limited_2022.05.14.xlsx\"  # You need to download BIOCARD_CognitiveData_Limited_2022.05.14.xlsx file\n",
    "BIOCARD_MRI_SUBJECT_DATA = \"../DATA/BIOCARD_SUBJECTS.csv\""
   ]
  },
  {
   "cell_type": "code",
   "execution_count": 25,
   "metadata": {
    "ExecuteTime": {
     "end_time": "2023-07-22T19:48:59.294651980Z",
     "start_time": "2023-07-22T19:48:39.928752400Z"
    }
   },
   "outputs": [
    {
     "name": "stderr",
     "output_type": "stream",
     "text": [
      "/home/dpolak/miniconda3/envs/adct/lib/python3.10/site-packages/openpyxl/worksheet/header_footer.py:48: UserWarning: Cannot parse header or footer so it will be ignored\n",
      "  warn(\"\"\"Cannot parse header or footer so it will be ignored\"\"\")\n",
      "/home/dpolak/miniconda3/envs/adct/lib/python3.10/site-packages/openpyxl/worksheet/header_footer.py:48: UserWarning: Cannot parse header or footer so it will be ignored\n",
      "  warn(\"\"\"Cannot parse header or footer so it will be ignored\"\"\")\n"
     ]
    }
   ],
   "source": [
    "df_biocard = get_joined_biocard_df(biocard_diagnosis_data=BIOCARD_DIAGNOSIS_DATA,\n",
    "                                   biocard_mri_subject_data=BIOCARD_MRI_SUBJECT_DATA,\n",
    "                                   scans_path=BIOCARD_SCANS_DIRECTORY,\n",
    "                                    biocard_demographic_data=BIOCARD_DEMOGRAPHIC_DATA,\n",
    "                                    biocard_functional_data=BIOCARD_FUNCTIONAL_DATA,\n",
    "                                    biocard_cognitive_data=BIOCARD_COGNITIVE_DATA)"
   ]
  },
  {
   "cell_type": "code",
   "execution_count": 26,
   "outputs": [],
   "source": [
    "df_biocard_revised = filter_biocard_diagnosis_criteria(df_biocard)\n",
    "df_biocard_revised = df_biocard_revised[df_biocard_revised[\"SCANTYPE\"] == \"MPRAGE\"]"
   ],
   "metadata": {
    "collapsed": false,
    "ExecuteTime": {
     "end_time": "2023-07-22T19:48:59.303413311Z",
     "start_time": "2023-07-22T19:48:59.295917800Z"
    }
   }
  },
  {
   "cell_type": "markdown",
   "metadata": {},
   "source": [
    "### Demographics"
   ]
  },
  {
   "cell_type": "code",
   "execution_count": 27,
   "metadata": {
    "ExecuteTime": {
     "end_time": "2023-07-22T19:48:59.309519662Z",
     "start_time": "2023-07-22T19:48:59.306304171Z"
    }
   },
   "outputs": [
    {
     "data": {
      "text/plain": "SEX   \nFemale    281\nMale      165\nName: count, dtype: int64"
     },
     "execution_count": 27,
     "metadata": {},
     "output_type": "execute_result"
    }
   ],
   "source": [
    "df_biocard_revised[[\"SEX\"]].value_counts()"
   ]
  },
  {
   "cell_type": "code",
   "execution_count": 28,
   "metadata": {
    "ExecuteTime": {
     "end_time": "2023-07-22T19:48:59.320542293Z",
     "start_time": "2023-07-22T19:48:59.311316651Z"
    }
   },
   "outputs": [
    {
     "data": {
      "text/plain": "              AGE\ncount  446.000000\nmean    70.524664\nstd      8.550607\nmin     34.000000\n25%     67.000000\n50%     72.000000\n75%     75.750000\nmax     93.000000",
      "text/html": "<div>\n<style scoped>\n    .dataframe tbody tr th:only-of-type {\n        vertical-align: middle;\n    }\n\n    .dataframe tbody tr th {\n        vertical-align: top;\n    }\n\n    .dataframe thead th {\n        text-align: right;\n    }\n</style>\n<table border=\"1\" class=\"dataframe\">\n  <thead>\n    <tr style=\"text-align: right;\">\n      <th></th>\n      <th>AGE</th>\n    </tr>\n  </thead>\n  <tbody>\n    <tr>\n      <th>count</th>\n      <td>446.000000</td>\n    </tr>\n    <tr>\n      <th>mean</th>\n      <td>70.524664</td>\n    </tr>\n    <tr>\n      <th>std</th>\n      <td>8.550607</td>\n    </tr>\n    <tr>\n      <th>min</th>\n      <td>34.000000</td>\n    </tr>\n    <tr>\n      <th>25%</th>\n      <td>67.000000</td>\n    </tr>\n    <tr>\n      <th>50%</th>\n      <td>72.000000</td>\n    </tr>\n    <tr>\n      <th>75%</th>\n      <td>75.750000</td>\n    </tr>\n    <tr>\n      <th>max</th>\n      <td>93.000000</td>\n    </tr>\n  </tbody>\n</table>\n</div>"
     },
     "execution_count": 28,
     "metadata": {},
     "output_type": "execute_result"
    }
   ],
   "source": [
    "df_biocard_revised[[\"AGE\"]].describe()"
   ]
  },
  {
   "cell_type": "code",
   "execution_count": 29,
   "metadata": {
    "ExecuteTime": {
     "end_time": "2023-07-22T19:48:59.490817352Z",
     "start_time": "2023-07-22T19:48:59.341676300Z"
    }
   },
   "outputs": [
    {
     "data": {
      "text/plain": "<Figure size 640x480 with 1 Axes>",
      "image/png": "[encoded data removed]"
     },
     "metadata": {},
     "output_type": "display_data"
    }
   ],
   "source": [
    "age_hist = df_biocard_revised['AGE'].hist()\n",
    "fig = age_hist.get_figure()\n",
    "fig.savefig(\"BIOCARD_age_histogram\")"
   ]
  },
  {
   "cell_type": "code",
   "execution_count": 30,
   "metadata": {
    "ExecuteTime": {
     "end_time": "2023-07-22T19:48:59.491030229Z",
     "start_time": "2023-07-22T19:48:59.488783031Z"
    }
   },
   "outputs": [],
   "source": [
    "df_patients = df_biocard_revised[[\"JHUANONID\", \"AGE\", \"DX\", \"SEX\"]].groupby(\"JHUANONID\").agg({\"AGE\": \"mean\", \"DX\": \"first\", \"SEX\": \"first\"})\n",
    "df_patients['AGE'] = df_patients['AGE'].astype(int)"
   ]
  },
  {
   "cell_type": "code",
   "execution_count": 31,
   "metadata": {
    "ExecuteTime": {
     "end_time": "2023-07-22T19:48:59.491182871Z",
     "start_time": "2023-07-22T19:48:59.489009937Z"
    }
   },
   "outputs": [
    {
     "data": {
      "text/plain": "          age_AD  age_AD_female  age_AD_male\ncount   6.000000            3.0     3.000000\nmean   79.333333           75.0    83.666667\nstd     7.089899            7.0     4.509250\nmin    70.000000           70.0    79.000000\n25%    73.750000           71.0    81.500000\n50%    81.000000           72.0    84.000000\n75%    83.750000           77.5    86.000000\nmax    88.000000           83.0    88.000000",
      "text/html": "<div>\n<style scoped>\n    .dataframe tbody tr th:only-of-type {\n        vertical-align: middle;\n    }\n\n    .dataframe tbody tr th {\n        vertical-align: top;\n    }\n\n    .dataframe thead th {\n        text-align: right;\n    }\n</style>\n<table border=\"1\" class=\"dataframe\">\n  <thead>\n    <tr style=\"text-align: right;\">\n      <th></th>\n      <th>age_AD</th>\n      <th>age_AD_female</th>\n      <th>age_AD_male</th>\n    </tr>\n  </thead>\n  <tbody>\n    <tr>\n      <th>count</th>\n      <td>6.000000</td>\n      <td>3.0</td>\n      <td>3.000000</td>\n    </tr>\n    <tr>\n      <th>mean</th>\n      <td>79.333333</td>\n      <td>75.0</td>\n      <td>83.666667</td>\n    </tr>\n    <tr>\n      <th>std</th>\n      <td>7.089899</td>\n      <td>7.0</td>\n      <td>4.509250</td>\n    </tr>\n    <tr>\n      <th>min</th>\n      <td>70.000000</td>\n      <td>70.0</td>\n      <td>79.000000</td>\n    </tr>\n    <tr>\n      <th>25%</th>\n      <td>73.750000</td>\n      <td>71.0</td>\n      <td>81.500000</td>\n    </tr>\n    <tr>\n      <th>50%</th>\n      <td>81.000000</td>\n      <td>72.0</td>\n      <td>84.000000</td>\n    </tr>\n    <tr>\n      <th>75%</th>\n      <td>83.750000</td>\n      <td>77.5</td>\n      <td>86.000000</td>\n    </tr>\n    <tr>\n      <th>max</th>\n      <td>88.000000</td>\n      <td>83.0</td>\n      <td>88.000000</td>\n    </tr>\n  </tbody>\n</table>\n</div>"
     },
     "execution_count": 31,
     "metadata": {},
     "output_type": "execute_result"
    }
   ],
   "source": [
    "pd.DataFrame({\n",
    " \"age_AD\": df_patients[df_patients[\"DX\"] == \"AD\"][\"AGE\"].describe(),\n",
    " \"age_AD_female\": df_patients[(df_patients[\"DX\"] == \"AD\") & (df_patients[\"SEX\"] == \"Female\")][\"AGE\"].describe(),\n",
    " \"age_AD_male\": df_patients[(df_patients[\"DX\"] == \"AD\") & (df_patients[\"SEX\"] == \"Male\")][\"AGE\"].describe()\n",
    "})"
   ]
  },
  {
   "cell_type": "code",
   "execution_count": 32,
   "metadata": {
    "ExecuteTime": {
     "end_time": "2023-07-22T19:48:59.491309735Z",
     "start_time": "2023-07-22T19:48:59.489177941Z"
    }
   },
   "outputs": [
    {
     "data": {
      "text/plain": "         age_MCI  age_MCI_female  age_MCI_male\ncount  61.000000       31.000000     30.000000\nmean   72.393443       71.774194     73.033333\nstd     6.693974        7.753320      5.448716\nmin    52.000000       52.000000     64.000000\n25%    68.000000       68.500000     68.250000\n50%    73.000000       73.000000     73.000000\n75%    76.000000       76.000000     75.750000\nmax    88.000000       86.000000     88.000000",
      "text/html": "<div>\n<style scoped>\n    .dataframe tbody tr th:only-of-type {\n        vertical-align: middle;\n    }\n\n    .dataframe tbody tr th {\n        vertical-align: top;\n    }\n\n    .dataframe thead th {\n        text-align: right;\n    }\n</style>\n<table border=\"1\" class=\"dataframe\">\n  <thead>\n    <tr style=\"text-align: right;\">\n      <th></th>\n      <th>age_MCI</th>\n      <th>age_MCI_female</th>\n      <th>age_MCI_male</th>\n    </tr>\n  </thead>\n  <tbody>\n    <tr>\n      <th>count</th>\n      <td>61.000000</td>\n      <td>31.000000</td>\n      <td>30.000000</td>\n    </tr>\n    <tr>\n      <th>mean</th>\n      <td>72.393443</td>\n      <td>71.774194</td>\n      <td>73.033333</td>\n    </tr>\n    <tr>\n      <th>std</th>\n      <td>6.693974</td>\n      <td>7.753320</td>\n      <td>5.448716</td>\n    </tr>\n    <tr>\n      <th>min</th>\n      <td>52.000000</td>\n      <td>52.000000</td>\n      <td>64.000000</td>\n    </tr>\n    <tr>\n      <th>25%</th>\n      <td>68.000000</td>\n      <td>68.500000</td>\n      <td>68.250000</td>\n    </tr>\n    <tr>\n      <th>50%</th>\n      <td>73.000000</td>\n      <td>73.000000</td>\n      <td>73.000000</td>\n    </tr>\n    <tr>\n      <th>75%</th>\n      <td>76.000000</td>\n      <td>76.000000</td>\n      <td>75.750000</td>\n    </tr>\n    <tr>\n      <th>max</th>\n      <td>88.000000</td>\n      <td>86.000000</td>\n      <td>88.000000</td>\n    </tr>\n  </tbody>\n</table>\n</div>"
     },
     "execution_count": 32,
     "metadata": {},
     "output_type": "execute_result"
    }
   ],
   "source": [
    "pd.DataFrame({\n",
    " \"age_MCI\": df_patients[df_patients[\"DX\"] == \"MCI\"][\"AGE\"].describe(),\n",
    " \"age_MCI_female\": df_patients[(df_patients[\"DX\"] == \"MCI\") & (df_patients[\"SEX\"] == \"Female\")][\"AGE\"].describe(),\n",
    " \"age_MCI_male\": df_patients[(df_patients[\"DX\"] == \"MCI\") & (df_patients[\"SEX\"] == \"Male\")][\"AGE\"].describe()\n",
    "})"
   ]
  },
  {
   "cell_type": "code",
   "execution_count": 33,
   "metadata": {
    "ExecuteTime": {
     "end_time": "2023-07-22T19:48:59.491415919Z",
     "start_time": "2023-07-22T19:48:59.489334944Z"
    }
   },
   "outputs": [
    {
     "data": {
      "text/plain": "           age_CN  age_CN_female  age_CN_male\ncount  134.000000      89.000000    45.000000\nmean    67.373134      67.337079    67.444444\nstd      9.646123       9.548850     9.944289\nmin     34.000000      37.000000    34.000000\n25%     62.250000      62.000000    63.000000\n50%     70.000000      70.000000    70.000000\n75%     74.000000      74.000000    75.000000\nmax     90.000000      90.000000    89.000000",
      "text/html": "<div>\n<style scoped>\n    .dataframe tbody tr th:only-of-type {\n        vertical-align: middle;\n    }\n\n    .dataframe tbody tr th {\n        vertical-align: top;\n    }\n\n    .dataframe thead th {\n        text-align: right;\n    }\n</style>\n<table border=\"1\" class=\"dataframe\">\n  <thead>\n    <tr style=\"text-align: right;\">\n      <th></th>\n      <th>age_CN</th>\n      <th>age_CN_female</th>\n      <th>age_CN_male</th>\n    </tr>\n  </thead>\n  <tbody>\n    <tr>\n      <th>count</th>\n      <td>134.000000</td>\n      <td>89.000000</td>\n      <td>45.000000</td>\n    </tr>\n    <tr>\n      <th>mean</th>\n      <td>67.373134</td>\n      <td>67.337079</td>\n      <td>67.444444</td>\n    </tr>\n    <tr>\n      <th>std</th>\n      <td>9.646123</td>\n      <td>9.548850</td>\n      <td>9.944289</td>\n    </tr>\n    <tr>\n      <th>min</th>\n      <td>34.000000</td>\n      <td>37.000000</td>\n      <td>34.000000</td>\n    </tr>\n    <tr>\n      <th>25%</th>\n      <td>62.250000</td>\n      <td>62.000000</td>\n      <td>63.000000</td>\n    </tr>\n    <tr>\n      <th>50%</th>\n      <td>70.000000</td>\n      <td>70.000000</td>\n      <td>70.000000</td>\n    </tr>\n    <tr>\n      <th>75%</th>\n      <td>74.000000</td>\n      <td>74.000000</td>\n      <td>75.000000</td>\n    </tr>\n    <tr>\n      <th>max</th>\n      <td>90.000000</td>\n      <td>90.000000</td>\n      <td>89.000000</td>\n    </tr>\n  </tbody>\n</table>\n</div>"
     },
     "execution_count": 33,
     "metadata": {},
     "output_type": "execute_result"
    }
   ],
   "source": [
    "pd.DataFrame({\n",
    " \"age_CN\": df_patients[df_patients[\"DX\"] == \"CN\"][\"AGE\"].describe(),\n",
    " \"age_CN_female\": df_patients[(df_patients[\"DX\"] == \"CN\") & (df_patients[\"SEX\"] == \"Female\")][\"AGE\"].describe(),\n",
    " \"age_CN_male\": df_patients[(df_patients[\"DX\"] == \"CN\") & (df_patients[\"SEX\"] == \"Male\")][\"AGE\"].describe()\n",
    "})"
   ]
  },
  {
   "cell_type": "code",
   "execution_count": 35,
   "metadata": {
    "ExecuteTime": {
     "end_time": "2023-07-22T19:50:13.354708821Z",
     "start_time": "2023-07-22T19:50:13.089482784Z"
    }
   },
   "outputs": [
    {
     "name": "stderr",
     "output_type": "stream",
     "text": [
      "/home/dpolak/miniconda3/envs/adct/lib/python3.10/site-packages/seaborn/axisgrid.py:118: UserWarning: The figure layout has changed to tight\n",
      "  self._figure.tight_layout(*args, **kwargs)\n"
     ]
    },
    {
     "data": {
      "text/plain": "<Figure size 539.475x400 with 1 Axes>",
      "image/png": "[encoded data removed]"
     },
     "metadata": {},
     "output_type": "display_data"
    }
   ],
   "source": [
    "plot_data = df_patients[[\"DX\", \"SEX\"]].groupby([\"DX\", \"SEX\"]).size().reset_index(name=\"count\")\n",
    "plot_data.columns = [\"Diagnoza\", \"Płeć\", \"Liczba pacjentów\"]\n",
    "plot_data[\"Płeć\"] = plot_data[\"Płeć\"].map({\"Male\": \"Mężczyźni\", \"Female\": \"Kobiety\"})\n",
    "plt.style.use('classic')\n",
    "sns.catplot(x=\"Diagnoza\", y=\"Liczba pacjentów\", hue=\"Płeć\", data=plot_data, kind=\"bar\").savefig(\"BIOCARD_diagnosis_sex\")"
   ]
  }
 ],
 "metadata": {
  "kernelspec": {
   "display_name": "Python 3 (ipykernel)",
   "language": "python",
   "name": "python3"
  },
  "language_info": {
   "codemirror_mode": {
    "name": "ipython",
    "version": 3
   },
   "file_extension": ".py",
   "mimetype": "text/x-python",
   "name": "python",
   "nbconvert_exporter": "python",
   "pygments_lexer": "ipython3",
   "version": "3.10.0"
  }
 },
 "nbformat": 4,
 "nbformat_minor": 1
}
