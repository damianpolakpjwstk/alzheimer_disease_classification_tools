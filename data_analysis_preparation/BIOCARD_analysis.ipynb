{
 "cells": [
  {
   "cell_type": "code",
   "execution_count": 1,
   "metadata": {
    "collapsed": true,
    "ExecuteTime": {
     "end_time": "2023-07-16T14:21:25.579063696Z",
     "start_time": "2023-07-16T14:21:25.393667705Z"
    }
   },
   "outputs": [],
   "source": [
    "import matplotlib.pyplot as plt\n",
    "import pandas as pd\n",
    "import seaborn as sns\n",
    "\n",
    "from data_analysis_preparation.utils import (filter_biocard_diagnosis_criteria,\n",
    "                                             get_joined_biocard_df)"
   ]
  },
  {
   "cell_type": "markdown",
   "source": [
    "### Load data"
   ],
   "metadata": {
    "collapsed": false
   }
  },
  {
   "cell_type": "code",
   "execution_count": 2,
   "outputs": [],
   "source": [
    "BIOCARD_SCANS_DIRECTORY = r\"/media/dpolak/MRI/FULL_PIPELINE_BIOCARD\"\n",
    "BIOCARD_DIAGNOSIS_DATA = r\"../DATA/BIOCARD_DiagnosisData_Limited_2022.05.14.xlsx\"  # You need to download BIOCARD_DiagnosisData_Limited_2022.05.14.xlsx file\n",
    "BIOCARD_DEMOGRAPHIC_DATA = r\"../DATA/BIOCARD_Demographics_Limited_Data_2022.05.10.xlsx\"  # You need to download BIOCARD_Demographics_Limited_Data_2022.05.10.xlsx file\n",
    "BIOCARD_FUNCTIONAL_DATA = r\"../DATA/BIOCARD_Functional_Evaluation_Limited_2022.05.16.xlsx\"  # You need to download BIOCARD_Functional_Evaluation_Limited_2022.05.16.xlsx file\n",
    "BIOCARD_COGNITIVE_DATA = r\"../DATA/BIOCARD_CognitiveData_Limited_2022.05.14.xlsx\"  # You need to download BIOCARD_CognitiveData_Limited_2022.05.14.xlsx file\n",
    "BIOCARD_MRI_SUBJECT_DATA = \"../DATA/BIOCARD_SUBJECTS.csv\""
   ],
   "metadata": {
    "collapsed": false,
    "ExecuteTime": {
     "end_time": "2023-07-16T14:21:25.583413132Z",
     "start_time": "2023-07-16T14:21:25.581212009Z"
    }
   }
  },
  {
   "cell_type": "code",
   "execution_count": 3,
   "outputs": [
    {
     "name": "stderr",
     "output_type": "stream",
     "text": [
      "/home/dpolak/miniconda3/envs/MAGISTERKA/lib/python3.10/site-packages/openpyxl/worksheet/header_footer.py:48: UserWarning: Cannot parse header or footer so it will be ignored\n",
      "  warn(\"\"\"Cannot parse header or footer so it will be ignored\"\"\")\n",
      "/home/dpolak/miniconda3/envs/MAGISTERKA/lib/python3.10/site-packages/openpyxl/worksheet/header_footer.py:48: UserWarning: Cannot parse header or footer so it will be ignored\n",
      "  warn(\"\"\"Cannot parse header or footer so it will be ignored\"\"\")\n"
     ]
    }
   ],
   "source": [
    "df_biocard = get_joined_biocard_df(biocard_diagnosis_data=BIOCARD_DIAGNOSIS_DATA,\n",
    "                                   biocard_mri_subject_data=BIOCARD_MRI_SUBJECT_DATA,\n",
    "                                   scans_path=BIOCARD_SCANS_DIRECTORY,\n",
    "                                    biocard_demographic_data=BIOCARD_DEMOGRAPHIC_DATA,\n",
    "                                    biocard_functional_data=BIOCARD_FUNCTIONAL_DATA,\n",
    "                                    biocard_cognitive_data=BIOCARD_COGNITIVE_DATA)\n",
    "df_biocard_revised = filter_biocard_diagnosis_criteria(df_biocard)"
   ],
   "metadata": {
    "collapsed": false,
    "ExecuteTime": {
     "end_time": "2023-07-16T14:21:34.778134732Z",
     "start_time": "2023-07-16T14:21:25.585563952Z"
    }
   }
  },
  {
   "cell_type": "markdown",
   "source": [
    "### Demographics"
   ],
   "metadata": {
    "collapsed": false
   }
  },
  {
   "cell_type": "code",
   "execution_count": 4,
   "outputs": [
    {
     "data": {
      "text/plain": "SEX   \nFemale    1262\nMale       807\nName: count, dtype: int64"
     },
     "execution_count": 4,
     "metadata": {},
     "output_type": "execute_result"
    }
   ],
   "source": [
    "df_biocard_revised[[\"SEX\"]].value_counts()"
   ],
   "metadata": {
    "collapsed": false,
    "ExecuteTime": {
     "end_time": "2023-07-16T14:21:34.784981092Z",
     "start_time": "2023-07-16T14:21:34.781235008Z"
    }
   }
  },
  {
   "cell_type": "code",
   "execution_count": 5,
   "outputs": [
    {
     "data": {
      "text/plain": "               AGE\ncount  2069.000000\nmean     64.307878\nstd      10.985943\nmin      20.000000\n25%      57.000000\n50%      65.000000\n75%      73.000000\nmax      93.000000",
      "text/html": "<div>\n<style scoped>\n    .dataframe tbody tr th:only-of-type {\n        vertical-align: middle;\n    }\n\n    .dataframe tbody tr th {\n        vertical-align: top;\n    }\n\n    .dataframe thead th {\n        text-align: right;\n    }\n</style>\n<table border=\"1\" class=\"dataframe\">\n  <thead>\n    <tr style=\"text-align: right;\">\n      <th></th>\n      <th>AGE</th>\n    </tr>\n  </thead>\n  <tbody>\n    <tr>\n      <th>count</th>\n      <td>2069.000000</td>\n    </tr>\n    <tr>\n      <th>mean</th>\n      <td>64.307878</td>\n    </tr>\n    <tr>\n      <th>std</th>\n      <td>10.985943</td>\n    </tr>\n    <tr>\n      <th>min</th>\n      <td>20.000000</td>\n    </tr>\n    <tr>\n      <th>25%</th>\n      <td>57.000000</td>\n    </tr>\n    <tr>\n      <th>50%</th>\n      <td>65.000000</td>\n    </tr>\n    <tr>\n      <th>75%</th>\n      <td>73.000000</td>\n    </tr>\n    <tr>\n      <th>max</th>\n      <td>93.000000</td>\n    </tr>\n  </tbody>\n</table>\n</div>"
     },
     "execution_count": 5,
     "metadata": {},
     "output_type": "execute_result"
    }
   ],
   "source": [
    "df_biocard_revised[[\"AGE\"]].describe()"
   ],
   "metadata": {
    "collapsed": false,
    "ExecuteTime": {
     "end_time": "2023-07-16T14:21:34.793640099Z",
     "start_time": "2023-07-16T14:21:34.783809929Z"
    }
   }
  },
  {
   "cell_type": "code",
   "execution_count": 6,
   "outputs": [
    {
     "data": {
      "text/plain": "<Figure size 640x480 with 1 Axes>",
      "image/png": "[encoded data removed]"
     },
     "metadata": {},
     "output_type": "display_data"
    }
   ],
   "source": [
    "age_hist = df_biocard_revised['AGE'].hist()\n",
    "fig = age_hist.get_figure()\n",
    "fig.savefig(\"BIOCARD_age_histogram\")"
   ],
   "metadata": {
    "collapsed": false,
    "ExecuteTime": {
     "end_time": "2023-07-16T14:21:35.028422742Z",
     "start_time": "2023-07-16T14:21:34.792039045Z"
    }
   }
  },
  {
   "cell_type": "code",
   "execution_count": 7,
   "outputs": [],
   "source": [
    "df_patients = df_biocard_revised[[\"JHUANONID\", \"AGE\", \"DX\", \"SEX\"]].groupby(\"JHUANONID\").agg({\"AGE\": \"mean\", \"DX\": \"first\", \"SEX\": \"first\"})\n",
    "df_patients['AGE'] = df_patients['AGE'].astype(int)"
   ],
   "metadata": {
    "collapsed": false,
    "ExecuteTime": {
     "end_time": "2023-07-16T14:21:35.083966280Z",
     "start_time": "2023-07-16T14:21:35.027219686Z"
    }
   }
  },
  {
   "cell_type": "code",
   "execution_count": 8,
   "outputs": [
    {
     "data": {
      "text/plain": "          age_AD  age_AD_female  age_AD_male\ncount   6.000000       3.000000     3.000000\nmean   72.333333      69.333333    75.333333\nstd     4.633213       5.131601     0.577350\nmin    65.000000      65.000000    75.000000\n25%    69.750000      66.500000    75.000000\n50%    75.000000      68.000000    75.000000\n75%    75.000000      71.500000    75.500000\nmax    76.000000      75.000000    76.000000",
      "text/html": "<div>\n<style scoped>\n    .dataframe tbody tr th:only-of-type {\n        vertical-align: middle;\n    }\n\n    .dataframe tbody tr th {\n        vertical-align: top;\n    }\n\n    .dataframe thead th {\n        text-align: right;\n    }\n</style>\n<table border=\"1\" class=\"dataframe\">\n  <thead>\n    <tr style=\"text-align: right;\">\n      <th></th>\n      <th>age_AD</th>\n      <th>age_AD_female</th>\n      <th>age_AD_male</th>\n    </tr>\n  </thead>\n  <tbody>\n    <tr>\n      <th>count</th>\n      <td>6.000000</td>\n      <td>3.000000</td>\n      <td>3.000000</td>\n    </tr>\n    <tr>\n      <th>mean</th>\n      <td>72.333333</td>\n      <td>69.333333</td>\n      <td>75.333333</td>\n    </tr>\n    <tr>\n      <th>std</th>\n      <td>4.633213</td>\n      <td>5.131601</td>\n      <td>0.577350</td>\n    </tr>\n    <tr>\n      <th>min</th>\n      <td>65.000000</td>\n      <td>65.000000</td>\n      <td>75.000000</td>\n    </tr>\n    <tr>\n      <th>25%</th>\n      <td>69.750000</td>\n      <td>66.500000</td>\n      <td>75.000000</td>\n    </tr>\n    <tr>\n      <th>50%</th>\n      <td>75.000000</td>\n      <td>68.000000</td>\n      <td>75.000000</td>\n    </tr>\n    <tr>\n      <th>75%</th>\n      <td>75.000000</td>\n      <td>71.500000</td>\n      <td>75.500000</td>\n    </tr>\n    <tr>\n      <th>max</th>\n      <td>76.000000</td>\n      <td>75.000000</td>\n      <td>76.000000</td>\n    </tr>\n  </tbody>\n</table>\n</div>"
     },
     "execution_count": 8,
     "metadata": {},
     "output_type": "execute_result"
    }
   ],
   "source": [
    "pd.DataFrame({\n",
    " \"age_AD\": df_patients[df_patients[\"DX\"] == \"AD\"][\"AGE\"].describe(),\n",
    " \"age_AD_female\": df_patients[(df_patients[\"DX\"] == \"AD\") & (df_patients[\"SEX\"] == \"Female\")][\"AGE\"].describe(),\n",
    " \"age_AD_male\": df_patients[(df_patients[\"DX\"] == \"AD\") & (df_patients[\"SEX\"] == \"Male\")][\"AGE\"].describe()\n",
    "})"
   ],
   "metadata": {
    "collapsed": false,
    "ExecuteTime": {
     "end_time": "2023-07-16T14:21:35.084207922Z",
     "start_time": "2023-07-16T14:21:35.071335081Z"
    }
   }
  },
  {
   "cell_type": "code",
   "execution_count": 9,
   "outputs": [
    {
     "data": {
      "text/plain": "         age_MCI  age_MCI_female  age_MCI_male\ncount  62.000000       31.000000     31.000000\nmean   66.129032       64.967742     67.290323\nstd     6.990588        7.386853      6.481736\nmin    44.000000       44.000000     52.000000\n25%    62.000000       61.500000     63.500000\n50%    66.000000       64.000000     66.000000\n75%    70.750000       70.000000     71.500000\nmax    83.000000       83.000000     81.000000",
      "text/html": "<div>\n<style scoped>\n    .dataframe tbody tr th:only-of-type {\n        vertical-align: middle;\n    }\n\n    .dataframe tbody tr th {\n        vertical-align: top;\n    }\n\n    .dataframe thead th {\n        text-align: right;\n    }\n</style>\n<table border=\"1\" class=\"dataframe\">\n  <thead>\n    <tr style=\"text-align: right;\">\n      <th></th>\n      <th>age_MCI</th>\n      <th>age_MCI_female</th>\n      <th>age_MCI_male</th>\n    </tr>\n  </thead>\n  <tbody>\n    <tr>\n      <th>count</th>\n      <td>62.000000</td>\n      <td>31.000000</td>\n      <td>31.000000</td>\n    </tr>\n    <tr>\n      <th>mean</th>\n      <td>66.129032</td>\n      <td>64.967742</td>\n      <td>67.290323</td>\n    </tr>\n    <tr>\n      <th>std</th>\n      <td>6.990588</td>\n      <td>7.386853</td>\n      <td>6.481736</td>\n    </tr>\n    <tr>\n      <th>min</th>\n      <td>44.000000</td>\n      <td>44.000000</td>\n      <td>52.000000</td>\n    </tr>\n    <tr>\n      <th>25%</th>\n      <td>62.000000</td>\n      <td>61.500000</td>\n      <td>63.500000</td>\n    </tr>\n    <tr>\n      <th>50%</th>\n      <td>66.000000</td>\n      <td>64.000000</td>\n      <td>66.000000</td>\n    </tr>\n    <tr>\n      <th>75%</th>\n      <td>70.750000</td>\n      <td>70.000000</td>\n      <td>71.500000</td>\n    </tr>\n    <tr>\n      <th>max</th>\n      <td>83.000000</td>\n      <td>83.000000</td>\n      <td>81.000000</td>\n    </tr>\n  </tbody>\n</table>\n</div>"
     },
     "execution_count": 9,
     "metadata": {},
     "output_type": "execute_result"
    }
   ],
   "source": [
    "pd.DataFrame({\n",
    " \"age_MCI\": df_patients[df_patients[\"DX\"] == \"MCI\"][\"AGE\"].describe(),\n",
    " \"age_MCI_female\": df_patients[(df_patients[\"DX\"] == \"MCI\") & (df_patients[\"SEX\"] == \"Female\")][\"AGE\"].describe(),\n",
    " \"age_MCI_male\": df_patients[(df_patients[\"DX\"] == \"MCI\") & (df_patients[\"SEX\"] == \"Male\")][\"AGE\"].describe()\n",
    "})"
   ],
   "metadata": {
    "collapsed": false,
    "ExecuteTime": {
     "end_time": "2023-07-16T14:21:35.084281835Z",
     "start_time": "2023-07-16T14:21:35.071465485Z"
    }
   }
  },
  {
   "cell_type": "code",
   "execution_count": 10,
   "outputs": [
    {
     "data": {
      "text/plain": "           age_CN  age_CN_female  age_CN_male\ncount  269.000000     160.000000   109.000000\nmean    61.851301      61.056250    63.018349\nstd     10.457814      10.246795    10.700451\nmin     25.000000      25.000000    27.000000\n25%     56.000000      55.000000    58.000000\n50%     63.000000      62.000000    64.000000\n75%     69.000000      68.000000    70.000000\nmax     86.000000      84.000000    86.000000",
      "text/html": "<div>\n<style scoped>\n    .dataframe tbody tr th:only-of-type {\n        vertical-align: middle;\n    }\n\n    .dataframe tbody tr th {\n        vertical-align: top;\n    }\n\n    .dataframe thead th {\n        text-align: right;\n    }\n</style>\n<table border=\"1\" class=\"dataframe\">\n  <thead>\n    <tr style=\"text-align: right;\">\n      <th></th>\n      <th>age_CN</th>\n      <th>age_CN_female</th>\n      <th>age_CN_male</th>\n    </tr>\n  </thead>\n  <tbody>\n    <tr>\n      <th>count</th>\n      <td>269.000000</td>\n      <td>160.000000</td>\n      <td>109.000000</td>\n    </tr>\n    <tr>\n      <th>mean</th>\n      <td>61.851301</td>\n      <td>61.056250</td>\n      <td>63.018349</td>\n    </tr>\n    <tr>\n      <th>std</th>\n      <td>10.457814</td>\n      <td>10.246795</td>\n      <td>10.700451</td>\n    </tr>\n    <tr>\n      <th>min</th>\n      <td>25.000000</td>\n      <td>25.000000</td>\n      <td>27.000000</td>\n    </tr>\n    <tr>\n      <th>25%</th>\n      <td>56.000000</td>\n      <td>55.000000</td>\n      <td>58.000000</td>\n    </tr>\n    <tr>\n      <th>50%</th>\n      <td>63.000000</td>\n      <td>62.000000</td>\n      <td>64.000000</td>\n    </tr>\n    <tr>\n      <th>75%</th>\n      <td>69.000000</td>\n      <td>68.000000</td>\n      <td>70.000000</td>\n    </tr>\n    <tr>\n      <th>max</th>\n      <td>86.000000</td>\n      <td>84.000000</td>\n      <td>86.000000</td>\n    </tr>\n  </tbody>\n</table>\n</div>"
     },
     "execution_count": 10,
     "metadata": {},
     "output_type": "execute_result"
    }
   ],
   "source": [
    "pd.DataFrame({\n",
    " \"age_CN\": df_patients[df_patients[\"DX\"] == \"CN\"][\"AGE\"].describe(),\n",
    " \"age_CN_female\": df_patients[(df_patients[\"DX\"] == \"CN\") & (df_patients[\"SEX\"] == \"Female\")][\"AGE\"].describe(),\n",
    " \"age_CN_male\": df_patients[(df_patients[\"DX\"] == \"CN\") & (df_patients[\"SEX\"] == \"Male\")][\"AGE\"].describe()\n",
    "})"
   ],
   "metadata": {
    "collapsed": false,
    "ExecuteTime": {
     "end_time": "2023-07-16T14:21:35.084349900Z",
     "start_time": "2023-07-16T14:21:35.071521642Z"
    }
   }
  },
  {
   "cell_type": "code",
   "execution_count": 11,
   "outputs": [
    {
     "data": {
      "text/plain": "<Figure size 539.475x400 with 1 Axes>",
      "image/png": "[encoded data removed]"
     },
     "metadata": {},
     "output_type": "display_data"
    }
   ],
   "source": [
    "plot_data = df_patients[[\"DX\", \"SEX\"]].groupby([\"DX\", \"SEX\"]).size().reset_index(name=\"count\")\n",
    "plot_data.columns = [\"Diagnoza\", \"Płeć\", \"Liczba pacjentów\"]\n",
    "plot_data[\"Płeć\"] = plot_data[\"Płeć\"].map({\"Male\": \"Mężczyźni\", \"Female\": \"Kobiety\"})\n",
    "plt.style.use('classic')\n",
    "sns.catplot(x=\"Diagnoza\", y=\"Liczba pacjentów\", hue=\"Płeć\", data=plot_data, kind=\"bar\").savefig(\"BIOCARD_diagnosis_sex\")"
   ],
   "metadata": {
    "collapsed": false,
    "ExecuteTime": {
     "end_time": "2023-07-16T14:21:35.283127073Z",
     "start_time": "2023-07-16T14:21:35.071598781Z"
    }
   }
  }
 ],
 "metadata": {
  "kernelspec": {
   "display_name": "Python 3",
   "language": "python",
   "name": "python3"
  },
  "language_info": {
   "codemirror_mode": {
    "name": "ipython",
    "version": 2
   },
   "file_extension": ".py",
   "mimetype": "text/x-python",
   "name": "python",
   "nbconvert_exporter": "python",
   "pygments_lexer": "ipython2",
   "version": "2.7.6"
  }
 },
 "nbformat": 4,
 "nbformat_minor": 0
}
